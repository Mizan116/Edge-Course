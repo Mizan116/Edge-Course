{
 "cells": [
  {
   "cell_type": "code",
   "execution_count": 3,
   "id": "e20e118d-950e-4720-953d-f1990b7b9573",
   "metadata": {},
   "outputs": [
    {
     "name": "stdout",
     "output_type": "stream",
     "text": [
      "007 : False\n",
      "course name:007\n",
      "course Id: CBI\n",
      "Stduent ID: 1904116\n",
      "Stduent ID with batch: CBI-007-1904116\n"
     ]
    }
   ],
   "source": [
    "edBatch = \"CBI-007\"\n",
    "stID  = \"1904116\"\n",
    "edBatch.upper()\n",
    "\n",
    "x = \" 007\" in edBatch\n",
    "print(f\"007 : {x}\")\n",
    "\n",
    "print(f\"course name:{edBatch[4:]}\")\n",
    "print(f\"course Id: {edBatch[:3]}\")\n",
    "\n",
    "print(f\"Stduent ID: {stID}\")\n",
    "\n",
    "BSID = edBatch+\"-\"+stID\n",
    "print(f\"Stduent ID with batch: {BSID}\")"
   ]
  }
 ],
 "metadata": {
  "kernelspec": {
   "display_name": "Python 3 (ipykernel)",
   "language": "python",
   "name": "python3"
  },
  "language_info": {
   "codemirror_mode": {
    "name": "ipython",
    "version": 3
   },
   "file_extension": ".py",
   "mimetype": "text/x-python",
   "name": "python",
   "nbconvert_exporter": "python",
   "pygments_lexer": "ipython3",
   "version": "3.12.0"
  }
 },
 "nbformat": 4,
 "nbformat_minor": 5
}
