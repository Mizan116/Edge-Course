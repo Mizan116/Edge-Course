{
 "cells": [
  {
   "cell_type": "code",
   "execution_count": 2,
   "id": "650ed948-458f-4396-815e-3402b4f6c60a",
   "metadata": {},
   "outputs": [],
   "source": [
    "import csv\n",
    "data = [\n",
    "    ['Name', 'Phone', 'Address'],\n",
    "    ['Mizan', 1839, 'CUET'],\n",
    "    ['Mehedi', 2494894, 'Mymensingh'],\n",
    "    ['Rakib', 32398, 'CUET']\n",
    "]\n",
    "\n",
    "with open('student.csv', 'w', newline='') as csvfile:\n",
    "    f = csv.writer(csvfile)\n",
    "    f.writerows(data)"
   ]
  },
  {
   "cell_type": "code",
   "execution_count": null,
   "id": "51872967-73db-4448-8c23-d2744bd66909",
   "metadata": {},
   "outputs": [
    {
     "name": "stdout",
     "output_type": "stream",
     "text": [
      "Enter new student data. Type 'done' when finished.\n"
     ]
    },
    {
     "name": "stdin",
     "output_type": "stream",
     "text": [
      "Enter Name:  Gourob\n",
      "Enter Phone:  34894\n",
      "Enter Address:  abc\n"
     ]
    }
   ],
   "source": [
    "with open('student.csv', 'a', newline='') as csvfile:\n",
    "    f = csv.writer(csvfile)\n",
    "    print(\"Enter new student data. Type 'done' when finished.\")\n",
    "\n",
    "    cmd = input(\"Command 'y' for adding more row\")\n",
    "    while cmd ==\"y\":\n",
    "        name = input(\"Enter Name: \")\n",
    "        if name.lower() == 'done':\n",
    "            break\n",
    "        phone = input(\"Enter Phone: \")\n",
    "        address = input(\"Enter Address: \")\n",
    "        \n",
    "        f.writerow([name, phone, address])\n",
    "\n",
    "print(\"New rows added successfully.\")\n"
   ]
  },
  {
   "cell_type": "code",
   "execution_count": null,
   "id": "fe1492f6-3a46-4800-9211-13a70912804f",
   "metadata": {},
   "outputs": [],
   "source": []
  }
 ],
 "metadata": {
  "kernelspec": {
   "display_name": "Python 3 (ipykernel)",
   "language": "python",
   "name": "python3"
  },
  "language_info": {
   "codemirror_mode": {
    "name": "ipython",
    "version": 3
   },
   "file_extension": ".py",
   "mimetype": "text/x-python",
   "name": "python",
   "nbconvert_exporter": "python",
   "pygments_lexer": "ipython3",
   "version": "3.12.0"
  }
 },
 "nbformat": 4,
 "nbformat_minor": 5
}
