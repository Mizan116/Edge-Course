{
 "cells": [
  {
   "cell_type": "code",
   "execution_count": 3,
   "id": "fe36c0b7-53dd-493e-afca-5e0491d83d60",
   "metadata": {},
   "outputs": [],
   "source": [
    "import csv\n",
    "data = [\n",
    "    ['Name', 'Phone', 'Address'],\n",
    "    ['Mizan', 1839, 'CUET'],\n",
    "    ['Mehedi', 2494894, 'Mymensingh'],\n",
    "    ['Rakib', 32398, 'CUET']\n",
    "]\n",
    "\n",
    "with open('student.csv', 'w', newline='') as csvfile:\n",
    "    f = csv.writer(csvfile)\n",
    "    f.writerows(data)"
   ]
  },
  {
   "cell_type": "code",
   "execution_count": null,
   "id": "5270ba4f-07d2-4743-bcd3-8bd1ce4ea397",
   "metadata": {},
   "outputs": [
    {
     "name": "stdout",
     "output_type": "stream",
     "text": [
      "Enter new student data. Type 'done' when finished.\n"
     ]
    },
    {
     "name": "stdin",
     "output_type": "stream",
     "text": [
      "Enter Name:  dskfj\n",
      "Enter Phone:  dmf\n",
      "Enter Address:  dkf\n",
      "Enter Name:  dld\n",
      "Enter Phone:  dklf\n",
      "Enter Address:  kdfld\n"
     ]
    }
   ],
   "source": [
    "with open('student.csv', 'a', newline='') as csvfile:\n",
    "    f = csv.writer(csvfile)\n",
    "    print(\"Enter new student data. Type 'done' when finished.\")\n",
    "\n",
    "    while True:\n",
    "        name = input(\"Enter Name: \")\n",
    "        if name.lower() == 'done':\n",
    "            break\n",
    "        phone = input(\"Enter Phone: \")\n",
    "        address = input(\"Enter Address: \")\n",
    "        \n",
    "        # Append the new row\n",
    "        f.writerow([name, phone, address])\n",
    "\n",
    "print(\"New rows added successfully.\")\n"
   ]
  }
 ],
 "metadata": {
  "kernelspec": {
   "display_name": "Python 3 (ipykernel)",
   "language": "python",
   "name": "python3"
  },
  "language_info": {
   "codemirror_mode": {
    "name": "ipython",
    "version": 3
   },
   "file_extension": ".py",
   "mimetype": "text/x-python",
   "name": "python",
   "nbconvert_exporter": "python",
   "pygments_lexer": "ipython3",
   "version": "3.12.0"
  }
 },
 "nbformat": 4,
 "nbformat_minor": 5
}
