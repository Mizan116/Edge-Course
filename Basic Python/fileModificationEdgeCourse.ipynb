{
 "cells": [
  {
   "cell_type": "code",
   "execution_count": 4,
   "id": "dba2531e-ac17-4395-af8b-314ca052410c",
   "metadata": {},
   "outputs": [
    {
     "name": "stdin",
     "output_type": "stream",
     "text": [
      "Enter the Edge course id CBI-007-1904116\n",
      "Enter your mark:  78\n"
     ]
    },
    {
     "name": "stdout",
     "output_type": "stream",
     "text": [
      "Student Name: Mizan\n",
      "Student ID: 1904116\n",
      "Dept Name: CSE\n",
      "Student Status: Final year\n",
      "Course Name: CBI\n",
      "Course ID: CBI-007\n",
      "Pass/A, marks: 78\n"
     ]
    },
    {
     "name": "stdin",
     "output_type": "stream",
     "text": [
      "Give me the word which you want to modify: hey\n",
      "Give me the word which you want: Hi\n"
     ]
    },
    {
     "name": "stdout",
     "output_type": "stream",
     "text": [
      "Write the bio successfully\n"
     ]
    }
   ],
   "source": [
    "name  = {\n",
    "    \"Mizan\" : \"1904116\",\n",
    "    \"Rakib\" : \"1904120\",\n",
    "    \"Emon\" : \"1904062\",\n",
    "    \"Hamim\": \"1904126\"\n",
    " }\n",
    "dept = {\n",
    "    \"19\" : \"Final year\",\n",
    "    \"20\" : \"3rd year\",\n",
    "    \"21\" : \"2nd year\",\n",
    "    \"22\" : \"1st year\"\n",
    "}\n",
    "def cv(edBatch):\n",
    "    marks = int(input(\"Enter your mark: \"))\n",
    "    for key, value in name.items():\n",
    "        if edBatch[9:] in value:\n",
    "            print(f\"Student Name: {key}\")\n",
    "            print(f\"Student ID: {value}\")\n",
    "            if edBatch[10:12] == \"04\":\n",
    "                print(f\"Dept Name: CSE\")\n",
    "            if edBatch[8:10] == \"19\":\n",
    "                print(f\"Student Status: Final year\")\n",
    "            print(f\"Course Name: {edBatch[:3]}\")\n",
    "            print(f\"Course ID: {edBatch[:7]}\")\n",
    "\n",
    "            if marks>=90:\n",
    "                print(f\"Pass/A++, marks: {marks}\")\n",
    "            elif marks>=80:\n",
    "                print(f\"Pass/A+, marks: {marks}\")\n",
    "            elif marks>=70:\n",
    "                print(f\"Pass/A, marks: {marks}\")\n",
    "            elif marks>=60:\n",
    "                print(f\"Pass/A, marks: {marks}\")\n",
    "            else:\n",
    "                print(f\"oh no no no/fail, marks: {marks}\")\n",
    "def fileop(edBatch):\n",
    "    text = input(\"Give me the word which you want to modify:\")\n",
    "    mText = input(\"Give me the word which you want:\")\n",
    "    \n",
    "    f = open(\"demo.txt\", \"r\")\n",
    "\n",
    "    data = f.read()  \n",
    "    data = data.replace(text, mText)\n",
    "    \n",
    "    f = open(\"modFile\n",
    "    .txt\", \"w\")\n",
    "    f.write(f\"{data}\")\n",
    "    \n",
    "    print(\"Write the bio successfully\")\n",
    "    f.close()\n",
    "    \n",
    "\n",
    "edBatch = input(\"Enter the Edge course id\")\n",
    "cv(edBatch)\n",
    "fileop(edBatch)\n",
    "\n",
    "#CBI-007-1904116\n",
    "#Hi this is Mizan, a student of CUET 19 CSE batch"
   ]
  },
  {
   "cell_type": "code",
   "execution_count": null,
   "id": "9ab1d926-1a49-465b-9ec5-7d03cd034dd9",
   "metadata": {},
   "outputs": [],
   "source": []
  }
 ],
 "metadata": {
  "kernelspec": {
   "display_name": "Python 3 (ipykernel)",
   "language": "python",
   "name": "python3"
  },
  "language_info": {
   "codemirror_mode": {
    "name": "ipython",
    "version": 3
   },
   "file_extension": ".py",
   "mimetype": "text/x-python",
   "name": "python",
   "nbconvert_exporter": "python",
   "pygments_lexer": "ipython3",
   "version": "3.12.0"
  }
 },
 "nbformat": 4,
 "nbformat_minor": 5
}
