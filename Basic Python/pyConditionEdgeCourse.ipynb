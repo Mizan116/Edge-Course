{
 "cells": [
  {
   "cell_type": "code",
   "execution_count": 2,
   "id": "2f5fb3fd-97b3-412a-bd84-bc436083df3f",
   "metadata": {},
   "outputs": [
    {
     "name": "stdin",
     "output_type": "stream",
     "text": [
      "Enter the Edge course id CBI-007-1904120\n",
      "Enter your mark:  34\n"
     ]
    },
    {
     "name": "stdout",
     "output_type": "stream",
     "text": [
      "Student Name: Rakib\n",
      "Student ID: 1904120\n",
      "Dept Name: CSE\n",
      "Student Status: Final year\n",
      "Course Name: CBI\n",
      "Course ID: CBI-007\n",
      "oh no no no/fail, marks: 34\n"
     ]
    }
   ],
   "source": [
    "name  = {\n",
    "    \"Mizan\" : \"1904116\",\n",
    "    \"Rakib\" : \"1904120\",\n",
    "    \"Emon\" : \"1904062\",\n",
    "    \"Hamim\": \"1904126\"\n",
    " }\n",
    "dept = {\n",
    "    \"19\" : \"Final year\",\n",
    "    \"20\" : \"3rd year\",\n",
    "    \"21\" : \"2nd year\",\n",
    "    \"22\" : \"1st year\"\n",
    "}\n",
    "def cv(edBatch):\n",
    "    marks = int(input(\"Enter your mark: \"))\n",
    "    for key, value in name.items():\n",
    "        if edBatch[9:] in value:\n",
    "            print(f\"Student Name: {key}\")\n",
    "            print(f\"Student ID: {value}\")\n",
    "            if edBatch[10:12] == \"04\":\n",
    "                print(f\"Dept Name: CSE\")\n",
    "            if edBatch[8:10] == \"19\":\n",
    "                print(f\"Student Status: Final year\")\n",
    "            print(f\"Course Name: {edBatch[:3]}\")\n",
    "            print(f\"Course ID: {edBatch[:7]}\")\n",
    "\n",
    "            if marks>=90:\n",
    "                print(f\"Pass/A++, marks: {marks}\")\n",
    "            elif marks>=80:\n",
    "                print(f\"Pass/A+, marks: {marks}\")\n",
    "            elif marks>=70:\n",
    "                print(f\"Pass/A, marks: {marks}\")\n",
    "            elif marks>=60:\n",
    "                print(f\"Pass/A, marks: {marks}\")\n",
    "            else:\n",
    "                print(f\"oh no no no/fail, marks: {marks}\")\n",
    "        \n",
    "    \n",
    "\n",
    "edBatch = input(\"Enter the Edge course id\")\n",
    "cv(edBatch)\n",
    "\n"
   ]
  },
  {
   "cell_type": "code",
   "execution_count": null,
   "id": "59df9227-ed90-4e4b-a278-668aeef8225e",
   "metadata": {},
   "outputs": [],
   "source": []
  }
 ],
 "metadata": {
  "kernelspec": {
   "display_name": "Python 3 (ipykernel)",
   "language": "python",
   "name": "python3"
  },
  "language_info": {
   "codemirror_mode": {
    "name": "ipython",
    "version": 3
   },
   "file_extension": ".py",
   "mimetype": "text/x-python",
   "name": "python",
   "nbconvert_exporter": "python",
   "pygments_lexer": "ipython3",
   "version": "3.12.0"
  }
 },
 "nbformat": 4,
 "nbformat_minor": 5
}
