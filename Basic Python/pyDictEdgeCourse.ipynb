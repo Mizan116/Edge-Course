{
 "cells": [
  {
   "cell_type": "code",
   "execution_count": 37,
   "id": "efefe992-63a8-4637-b5c8-8917f8f84896",
   "metadata": {},
   "outputs": [
    {
     "name": "stdout",
     "output_type": "stream",
     "text": [
      "007 : False\n",
      "course name:007\n",
      "course Id: CBI\n",
      "Stduent ID: 1904116\n",
      "Stduent ID with batch: CBI-007-1904116\n",
      "19\n"
     ]
    }
   ],
   "source": [
    "edBatch = \"CBI-007\"\n",
    "stID  = \"1904116\"\n",
    "edBatch.upper()\n",
    "\n",
    "x = \" 007\" in edBatch\n",
    "print(f\"007 : {x}\")\n",
    "\n",
    "print(f\"course name:{edBatch[4:]}\")\n",
    "print(f\"course Id: {edBatch[:3]}\")\n",
    "\n",
    "print(f\"Stduent ID: {stID}\")\n",
    "\n",
    "BSID = edBatch+\"-\"+stID\n",
    "print(f\"Stduent ID with batch: {BSID}\")\n",
    "print(BSID)"
   ]
  },
  {
   "cell_type": "code",
   "execution_count": 39,
   "id": "2f5fb3fd-97b3-412a-bd84-bc436083df3f",
   "metadata": {},
   "outputs": [
    {
     "name": "stdin",
     "output_type": "stream",
     "text": [
      "Enter the Edge course id CBI-007-1904116\n"
     ]
    },
    {
     "name": "stdout",
     "output_type": "stream",
     "text": [
      "Student Name: Mizan\n",
      "Student ID: 1904116\n",
      "Dept Name: CSE\n",
      "Student Status: Final year\n",
      "Course Name: CBI\n",
      "Course ID: CBI-007\n"
     ]
    }
   ],
   "source": [
    "name  = {\n",
    "    \"Mizan\" : \"1904116\",\n",
    "    \"Rakib\" : \"1904120\",\n",
    "    \"Emon\" : \"1904062\",\n",
    "    \"Hamim\": \"1904126\"\n",
    " }\n",
    "dept = {\n",
    "    \"19\" : \"Final year\",\n",
    "    \"20\" : \"3rd year\",\n",
    "    \"21\" : \"2nd year\",\n",
    "    \"22\" : \"1st year\"\n",
    "}\n",
    "def cv(edBatch):\n",
    "    for key, value in name.items():\n",
    "        if edBatch[9:] in value:\n",
    "            print(f\"Student Name: {key}\")\n",
    "            print(f\"Student ID: {value}\")\n",
    "            if edBatch[10:12] == \"04\":\n",
    "                print(f\"Dept Name: CSE\")\n",
    "            if edBatch[8:10] == \"19\":\n",
    "                print(f\"Student Status: Final year\")\n",
    "            print(f\"Course Name: {edBatch[:3]}\")\n",
    "            print(f\"Course ID: {edBatch[:7]}\")\n",
    "    \n",
    "\n",
    "edBatch = input(\"Enter the Edge course id\")\n",
    "cv(edBatch)\n",
    "\n"
   ]
  }
 ],
 "metadata": {
  "kernelspec": {
   "display_name": "Python 3 (ipykernel)",
   "language": "python",
   "name": "python3"
  },
  "language_info": {
   "codemirror_mode": {
    "name": "ipython",
    "version": 3
   },
   "file_extension": ".py",
   "mimetype": "text/x-python",
   "name": "python",
   "nbconvert_exporter": "python",
   "pygments_lexer": "ipython3",
   "version": "3.12.0"
  }
 },
 "nbformat": 4,
 "nbformat_minor": 5
}
