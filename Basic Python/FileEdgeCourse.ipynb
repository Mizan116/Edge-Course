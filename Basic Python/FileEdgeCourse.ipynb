{
 "cells": [
  {
   "cell_type": "code",
   "execution_count": 11,
   "id": "cc2491c7-5f66-41c7-a73f-30ec142a57f6",
   "metadata": {},
   "outputs": [
    {
     "name": "stdin",
     "output_type": "stream",
     "text": [
      "Enter the Edge course id CBI-007-1904116\n",
      "Enter your mark:  89\n"
     ]
    },
    {
     "name": "stdout",
     "output_type": "stream",
     "text": [
      "Student Name: Mizan\n",
      "Student ID: 1904116\n",
      "Dept Name: CSE\n",
      "Student Status: Final year\n",
      "Course Name: CBI\n",
      "Course ID: CBI-007\n",
      "Pass/A+, marks: 89\n"
     ]
    },
    {
     "name": "stdin",
     "output_type": "stream",
     "text": [
      "Give me the bio of the student here: hey\n"
     ]
    },
    {
     "name": "stdout",
     "output_type": "stream",
     "text": [
      "Write the bio successfully\n"
     ]
    }
   ],
   "source": [
    "name  = {\n",
    "    \"Mizan\" : \"1904116\",\n",
    "    \"Rakib\" : \"1904120\",\n",
    "    \"Emon\" : \"1904062\",\n",
    "    \"Hamim\": \"1904126\"\n",
    " }\n",
    "dept = {\n",
    "    \"19\" : \"Final year\",\n",
    "    \"20\" : \"3rd year\",\n",
    "    \"21\" : \"2nd year\",\n",
    "    \"22\" : \"1st year\"\n",
    "}\n",
    "def cv(edBatch):\n",
    "    marks = int(input(\"Enter your mark: \"))\n",
    "    for key, value in name.items():\n",
    "        if edBatch[9:] in value:\n",
    "            print(f\"Student Name: {key}\")\n",
    "            print(f\"Student ID: {value}\")\n",
    "            if edBatch[10:12] == \"04\":\n",
    "                print(f\"Dept Name: CSE\")\n",
    "            if edBatch[8:10] == \"19\":\n",
    "                print(f\"Student Status: Final year\")\n",
    "            print(f\"Course Name: {edBatch[:3]}\")\n",
    "            print(f\"Course ID: {edBatch[:7]}\")\n",
    "\n",
    "            if marks>=90:\n",
    "                print(f\"Pass/A++, marks: {marks}\")\n",
    "            elif marks>=80:\n",
    "                print(f\"Pass/A+, marks: {marks}\")\n",
    "            elif marks>=70:\n",
    "                print(f\"Pass/A, marks: {marks}\")\n",
    "            elif marks>=60:\n",
    "                print(f\"Pass/A, marks: {marks}\")\n",
    "            else:\n",
    "                print(f\"oh no no no/fail, marks: {marks}\")\n",
    "def fileop(edBatch):\n",
    "    f = open(\"demo.txt\", \"a\")\n",
    "\n",
    "    bio = input(\"Give me the bio of the student here:\")\n",
    "    f.write(f\"{bio}\\n\")\n",
    "    print(\"Write the bio successfully\")\n",
    "    f.close()\n",
    "    \n",
    "\n",
    "edBatch = input(\"Enter the Edge course id\")\n",
    "cv(edBatch)\n",
    "fileop(edBatch)\n",
    "\n",
    "#CBI-007-1904116\n",
    "#Hi this is Mizan, a student of CUET 19 CSE batch"
   ]
  },
  {
   "cell_type": "code",
   "execution_count": null,
   "id": "48bcdc19-56ae-46a5-a7fa-e3bedf2591b4",
   "metadata": {},
   "outputs": [],
   "source": []
  }
 ],
 "metadata": {
  "kernelspec": {
   "display_name": "Python 3 (ipykernel)",
   "language": "python",
   "name": "python3"
  },
  "language_info": {
   "codemirror_mode": {
    "name": "ipython",
    "version": 3
   },
   "file_extension": ".py",
   "mimetype": "text/x-python",
   "name": "python",
   "nbconvert_exporter": "python",
   "pygments_lexer": "ipython3",
   "version": "3.12.0"
  }
 },
 "nbformat": 4,
 "nbformat_minor": 5
}
