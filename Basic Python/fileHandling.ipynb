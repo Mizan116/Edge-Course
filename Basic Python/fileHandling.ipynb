{
 "cells": [
  {
   "cell_type": "code",
   "execution_count": 2,
   "id": "d41306c9-c347-4a3f-abb6-ce6ed6d5c4b9",
   "metadata": {},
   "outputs": [
    {
     "name": "stdin",
     "output_type": "stream",
     "text": [
      "How many records you want to insert:  2\n",
      "1. Enter name:  jdskfj\n",
      "1. Enter age:  393\n",
      "1. Enter Enrollment number:  mdsfkn\n"
     ]
    },
    {
     "name": "stdout",
     "output_type": "stream",
     "text": [
      "\n"
     ]
    },
    {
     "name": "stdin",
     "output_type": "stream",
     "text": [
      "2. Enter name:  33\n",
      "2. Enter age:  emdsk\n",
      "2. Enter Enrollment number:  ek\n"
     ]
    },
    {
     "name": "stdout",
     "output_type": "stream",
     "text": [
      "\n",
      "All records inserted successfully !\n"
     ]
    }
   ],
   "source": [
    "import csv\n",
    "file = open('data.csv', 'w')\n",
    "file = csv.writer(file)\n",
    "\n",
    "file.writerow(['Name', 'Age', 'Enrollment Number'])\n",
    "n = int(input('How many records you want to insert: '))\n",
    "\n",
    "for i in range(n):\n",
    "    name = input(f'{i+1}. Enter name: ')\n",
    "    age = input(f'{i+1}. Enter age: ')\n",
    "    enroll = input(f'{i+1}. Enter Enrollment number: ')\n",
    "    file.writerow([name, age, enroll])\n",
    "    print()\n",
    "\n",
    "print('All records inserted successfully !')"
   ]
  },
  {
   "cell_type": "code",
   "execution_count": null,
   "id": "6155e093-4c09-4e73-9b59-8549c5fb843a",
   "metadata": {},
   "outputs": [],
   "source": []
  }
 ],
 "metadata": {
  "kernelspec": {
   "display_name": "Python 3 (ipykernel)",
   "language": "python",
   "name": "python3"
  },
  "language_info": {
   "codemirror_mode": {
    "name": "ipython",
    "version": 3
   },
   "file_extension": ".py",
   "mimetype": "text/x-python",
   "name": "python",
   "nbconvert_exporter": "python",
   "pygments_lexer": "ipython3",
   "version": "3.12.0"
  }
 },
 "nbformat": 4,
 "nbformat_minor": 5
}
